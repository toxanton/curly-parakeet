{
 "cells": [
  {
   "cell_type": "code",
   "execution_count": 1,
   "metadata": {},
   "outputs": [],
   "source": [
    "import pandahouse as ph\n",
    "import pandas as pd\n",
    "import datetime"
   ]
  },
  {
   "cell_type": "code",
   "execution_count": 2,
   "metadata": {},
   "outputs": [],
   "source": [
    "# создаем словарь connection с нужными параметрами\n",
    "connection_default = {'host': 'https://clickhouse.lab.karpov.courses',\n",
    "                      'database':'default',\n",
    "                      'user':'student', \n",
    "                      'password':'dpo_python_2020'\n",
    "                     }"
   ]
  },
  {
   "cell_type": "markdown",
   "metadata": {},
   "source": [
    "### 2.1 Очень усердные ученики.\n",
    "Образовательные курсы состоят из различных уроков, каждый из которых состоит из нескольких маленьких заданий. Каждое такое маленькое задание называется \"горошиной\".<br>\n",
    "<br>\n",
    "Необходимо написать оптимальный запрос, который даст информацию о количестве очень усердных студентов.NB! Под усердным студентом мы понимаем студента, который правильно решил 20 задач за текущий месяц."
   ]
  },
  {
   "cell_type": "code",
   "execution_count": 3,
   "metadata": {},
   "outputs": [],
   "source": [
    "# Создаю SQL запрос. \n",
    "# В подзапросе вывожу id студентов, месяц и количество успешно выполненных горошин. в HAVING фильтрую количество горошин(от 20)\n",
    "# В основном запросе просто вывожу количество ID из подзапроса.\n",
    "q_peas = '''\n",
    "    SELECT\n",
    "        count(st_id) as exelent_students\n",
    "    FROM\n",
    "        (SELECT \n",
    "            st_id,\n",
    "            month(timest) as month,\n",
    "            count(correct) as correct_tasks\n",
    "        FROM \n",
    "            default.peas\n",
    "        WHERE\n",
    "            correct = 1\n",
    "        GROUP BY\n",
    "            st_id,\n",
    "            month(timest)\n",
    "        HAVING\n",
    "            count(correct) >= 20)\n",
    "    '''"
   ]
  },
  {
   "cell_type": "code",
   "execution_count": 4,
   "metadata": {},
   "outputs": [
    {
     "data": {
      "text/html": [
       "<div>\n",
       "<style scoped>\n",
       "    .dataframe tbody tr th:only-of-type {\n",
       "        vertical-align: middle;\n",
       "    }\n",
       "\n",
       "    .dataframe tbody tr th {\n",
       "        vertical-align: top;\n",
       "    }\n",
       "\n",
       "    .dataframe thead th {\n",
       "        text-align: right;\n",
       "    }\n",
       "</style>\n",
       "<table border=\"1\" class=\"dataframe\">\n",
       "  <thead>\n",
       "    <tr style=\"text-align: right;\">\n",
       "      <th></th>\n",
       "      <th>exelent_students</th>\n",
       "    </tr>\n",
       "  </thead>\n",
       "  <tbody>\n",
       "    <tr>\n",
       "      <th>0</th>\n",
       "      <td>136</td>\n",
       "    </tr>\n",
       "  </tbody>\n",
       "</table>\n",
       "</div>"
      ],
      "text/plain": [
       "   exelent_students\n",
       "0               136"
      ]
     },
     "execution_count": 4,
     "metadata": {},
     "output_type": "execute_result"
    }
   ],
   "source": [
    "# Отправляю запрос и записываю в датафрейм\n",
    "exelent_students = ph.read_clickhouse(q_peas, connection=connection_default)\n",
    "exelent_students"
   ]
  },
  {
   "cell_type": "code",
   "execution_count": null,
   "metadata": {},
   "outputs": [],
   "source": []
  },
  {
   "cell_type": "markdown",
   "metadata": {},
   "source": [
    "### 2.2 Оптимизация воронки\n",
    "Образовательная платформа предлагает пройти студентам курсы по модели trial: студент может решить бесплатно лишь 30 горошин в день. Для неограниченного количества заданий в определенной дисциплине студенту необходимо приобрести полный доступ. Команда провела эксперимент, где был протестирован новый экран оплаты.<br>\n",
    "<br>\n",
    "Необходимо в <b>одном запросе</b> выгрузить следующую информацию о группах пользователей:<br>\n",
    "- ARPU<br> \n",
    "- ARPAU <br>\n",
    "- CR в покупку<br> \n",
    "- СR активного пользователя в покупку<br> \n",
    "- CR пользователя из активности по математике (subject = ’math’) в покупку курса по математике<br>\n",
    "<br>\n",
    "<b>Активным</b> считается пользователь, за все время решивший <b>больше 10</b> задач правильно в любых дисциплинах.<br>\n",
    "<b>Активным по математике</b> считается пользователь, за все время решивший <b>2 или больше</b> задач правильно по математике."
   ]
  },
  {
   "cell_type": "code",
   "execution_count": null,
   "metadata": {},
   "outputs": [],
   "source": []
  },
  {
   "cell_type": "code",
   "execution_count": 5,
   "metadata": {},
   "outputs": [],
   "source": [
    "# Создаю SQL запрос. \n",
    "# В блоке WITH сохраняю отдельно подзапросы:\n",
    "#    activ - вывод активных пользователей и групп (фильтрую по решенным задачам, в HAVING фильтр по количеству - больше 10); \n",
    "#    activ_math - вывод активных пользователей по математике и групп (фильтрую по решенным задачам и типу задачи Math, \n",
    "#                 в HAVING фильтр по количеству - больше или равно 2);\n",
    "# \n",
    "# В основном запросе   \n",
    "# arpu - отношение дохода к числу пользователей;\n",
    "# arpau - отношение дохода от активных пользователей к числу активных пользователей;\n",
    "# cr - отношение количества покупателей к числу пользователей;\n",
    "# cr_activ - отношение количества покупателей из числа активных пользователей к числу активных пользователей;\n",
    "# cr_math_activ - отношение количества покупателей из числа активных пользователей по математике \n",
    "#                 к числу активных пользователей по математике;\n",
    "#    \n",
    "# (из каунта пользователей вычитаю единицу, так как при подсчете уникальных значений так же учитываются пропуски)\n",
    "\n",
    "\n",
    "q_scool = '''\n",
    "    WITH \n",
    "            activ as \n",
    "                (SELECT \n",
    "                    distinct peas.st_id\n",
    "                FROM \n",
    "                    default.peas\n",
    "                    JOIN\n",
    "                    default.studs\n",
    "                        ON peas.st_id = studs.st_id\n",
    "                WHERE \n",
    "                    correct = 1\n",
    "                GROUP BY \n",
    "                    peas.st_id\n",
    "                HAVING \n",
    "                    count(correct) > 10),\n",
    "            activ_math as\n",
    "                (SELECT \n",
    "                    distinct peas.st_id\n",
    "                FROM \n",
    "                    default.peas\n",
    "                    JOIN\n",
    "                    default.studs\n",
    "                        ON peas.st_id = studs.st_id\n",
    "                WHERE \n",
    "                    correct = 1 \n",
    "                    and\n",
    "                    subject = 'Math'\n",
    "                GROUP BY \n",
    "                    peas.st_id\n",
    "                HAVING \n",
    "                    count(correct) >= 2)\n",
    "\n",
    "\n",
    "    SELECT\n",
    "        s.test_grp as test_grp,\n",
    "        round((sum(ch.money) / count(distinct s.st_id)), 2) as arpu,\n",
    "        round((sumIf(ch.money, ch.st_id == a.st_id) / (count(distinct a.st_id) - 1)), 2) as arpau,\n",
    "        round((((count(distinct ch.st_id) - 1) / count(distinct s.st_id)) * 100), 2) as cr,\n",
    "        round((((countIf(distinct a.st_id, ch.money > 0) - 1) / (count(distinct a.st_id) - 1))* 100), 2) as cr_activ,\n",
    "        round(((countIF(distinct am.st_id, ch.money > 0 AND ch.subject = 'Math') - 1) / (count(distinct am.st_id) - 1) * 100), 2) as cr_math_activ\n",
    "    FROM\n",
    "        default.studs as s\n",
    "        FULL JOIN\n",
    "        default.final_project_check as ch\n",
    "            ON s.st_id = ch.st_id\n",
    "        FULL JOIN\n",
    "        activ as a\n",
    "            ON a.st_id = s.st_id\n",
    "        FULL JOIN\n",
    "        activ_math as am\n",
    "            ON am.st_id = s.st_id\n",
    "    GROUP BY\n",
    "        s.test_grp\n",
    "    '''"
   ]
  },
  {
   "cell_type": "code",
   "execution_count": 6,
   "metadata": {
    "scrolled": true
   },
   "outputs": [
    {
     "data": {
      "text/html": [
       "<div>\n",
       "<style scoped>\n",
       "    .dataframe tbody tr th:only-of-type {\n",
       "        vertical-align: middle;\n",
       "    }\n",
       "\n",
       "    .dataframe tbody tr th {\n",
       "        vertical-align: top;\n",
       "    }\n",
       "\n",
       "    .dataframe thead th {\n",
       "        text-align: right;\n",
       "    }\n",
       "</style>\n",
       "<table border=\"1\" class=\"dataframe\">\n",
       "  <thead>\n",
       "    <tr style=\"text-align: right;\">\n",
       "      <th></th>\n",
       "      <th>test_grp</th>\n",
       "      <th>arpu</th>\n",
       "      <th>arpau</th>\n",
       "      <th>cr</th>\n",
       "      <th>cr_activ</th>\n",
       "      <th>cr_math_activ</th>\n",
       "    </tr>\n",
       "  </thead>\n",
       "  <tbody>\n",
       "    <tr>\n",
       "      <th>0</th>\n",
       "      <td>control</td>\n",
       "      <td>4540.98</td>\n",
       "      <td>10393.70</td>\n",
       "      <td>4.92</td>\n",
       "      <td>11.02</td>\n",
       "      <td>6.12</td>\n",
       "    </tr>\n",
       "    <tr>\n",
       "      <th>1</th>\n",
       "      <td>pilot</td>\n",
       "      <td>11508.47</td>\n",
       "      <td>29739.58</td>\n",
       "      <td>10.85</td>\n",
       "      <td>26.04</td>\n",
       "      <td>9.52</td>\n",
       "    </tr>\n",
       "  </tbody>\n",
       "</table>\n",
       "</div>"
      ],
      "text/plain": [
       "  test_grp      arpu     arpau     cr  cr_activ  cr_math_activ\n",
       "0  control   4540.98  10393.70   4.92     11.02           6.12\n",
       "1    pilot  11508.47  29739.58  10.85     26.04           9.52"
      ]
     },
     "execution_count": 6,
     "metadata": {},
     "output_type": "execute_result"
    }
   ],
   "source": [
    "scool = ph.read_clickhouse(q_scool, connection=connection_default)\n",
    "scool"
   ]
  },
  {
   "cell_type": "code",
   "execution_count": null,
   "metadata": {},
   "outputs": [],
   "source": []
  },
  {
   "cell_type": "code",
   "execution_count": null,
   "metadata": {},
   "outputs": [],
   "source": []
  }
 ],
 "metadata": {
  "kernelspec": {
   "display_name": "Python 3",
   "language": "python",
   "name": "python3"
  },
  "language_info": {
   "codemirror_mode": {
    "name": "ipython",
    "version": 3
   },
   "file_extension": ".py",
   "mimetype": "text/x-python",
   "name": "python",
   "nbconvert_exporter": "python",
   "pygments_lexer": "ipython3",
   "version": "3.7.3"
  }
 },
 "nbformat": 4,
 "nbformat_minor": 4
}
