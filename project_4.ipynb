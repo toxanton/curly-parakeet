{
 "cells": [
  {
   "cell_type": "code",
   "execution_count": 1,
   "metadata": {},
   "outputs": [],
   "source": [
    "import numpy as np\n",
    "import pandas as pd\n",
    "import scipy.stats as ss\n",
    "\n",
    "import seaborn as sns\n",
    "import plotly.express as px\n",
    "import matplotlib.pyplot as plt\n",
    "from scipy import stats\n",
    "from scipy.stats import chi2_contingency, chi2\n",
    "from scipy.stats import mannwhitneyu\n",
    "\n",
    "sns.set(rc={'figure.figsize':(12,6)}, style=\"whitegrid\")"
   ]
  },
  {
   "cell_type": "markdown",
   "metadata": {},
   "source": [
    "### Задание 3. Python\n",
    "1.Реализуйте функцию, которая будет автоматически подгружать информацию из дополнительного файла groups_add.csv (заголовки могут отличаться) и на основании дополнительных параметров пересчитывать метрики.<br>\n",
    "2.Реализуйте функцию, которая будет строить графики по получаемым метрикам.\n"
   ]
  },
  {
   "cell_type": "code",
   "execution_count": 2,
   "metadata": {},
   "outputs": [],
   "source": [
    "# Как и в первом задании загружаю файлы в одноименные датафреймы, кроме groups_add, \n",
    "# так как он будет подгружаться автоматически при использовании будующей функции.\n",
    "\n",
    "groups = pd.read_csv('~/files_for_final_project/Проект_2_groups.csv', sep=';')\n",
    "active_studs = pd.read_csv('~/files_for_final_project/Проект_2_active_studs.csv')\n",
    "checks = pd.read_csv('~/files_for_final_project/Проект_2_checks.csv', sep=';')"
   ]
  },
  {
   "cell_type": "markdown",
   "metadata": {},
   "source": [
    "### 1"
   ]
  },
  {
   "cell_type": "code",
   "execution_count": 3,
   "metadata": {},
   "outputs": [],
   "source": [
    "# создаю функцию.\n",
    "# Сначала выгружаем файл groups_add и объединяем с groups.\n",
    "# Далее, аналогично первому, заданию расчитываем конверсию(cr) и средний чек(avg_check).\n",
    "# Обединяем все в одну таблицу и выводим ее.\n",
    "\n",
    "def my_function(groups, active_studs,checks):\n",
    "    groups_add = pd.read_csv('~/files_for_final_project/groups_add.csv') \n",
    "    group = pd.concat([groups, groups_add], ignore_index=True)\n",
    "    \n",
    "    active_users = group[group.id.isin(active_studs['student_id'])].reset_index(drop=True)\n",
    "    df1 = active_users.merge(checks, how='left', left_on = 'id', right_on = 'student_id')[['id','grp','rev']].fillna(0)\n",
    "    df1['conv'] = df1.rev.apply(lambda x: 'buy' if x > 0 else 'not_buy')\n",
    "    df2 = df1.query('conv == \"buy\"')\n",
    "    \n",
    "    cr = ((df1.query('rev > 0').groupby('grp').agg({'id':'count'}) / df1.groupby('grp').agg({'id':'count'})) *  100) \\\n",
    "        .round(2).rename(columns={'id':'CR'}).reset_index()\n",
    "    \n",
    "    arppu = df2.groupby('grp').agg({'rev':'sum', 'id':'count'})\n",
    "    arppu['ARPPU'] = arppu.rev / arppu.id\n",
    "    \n",
    "    my_function_table = cr.merge(arppu[['ARPPU']].reset_index(), how = 'inner', on = 'grp')\n",
    "    \n",
    "    my_function_table['ARPU'] = ((my_function_table.CR * my_function_table.ARPPU) / 100).round(2)\n",
    "    \n",
    "    return my_function_table"
   ]
  },
  {
   "cell_type": "code",
   "execution_count": 4,
   "metadata": {},
   "outputs": [
    {
     "data": {
      "text/html": [
       "<div>\n",
       "<style scoped>\n",
       "    .dataframe tbody tr th:only-of-type {\n",
       "        vertical-align: middle;\n",
       "    }\n",
       "\n",
       "    .dataframe tbody tr th {\n",
       "        vertical-align: top;\n",
       "    }\n",
       "\n",
       "    .dataframe thead th {\n",
       "        text-align: right;\n",
       "    }\n",
       "</style>\n",
       "<table border=\"1\" class=\"dataframe\">\n",
       "  <thead>\n",
       "    <tr style=\"text-align: right;\">\n",
       "      <th></th>\n",
       "      <th>grp</th>\n",
       "      <th>CR</th>\n",
       "      <th>ARPPU</th>\n",
       "      <th>ARPU</th>\n",
       "    </tr>\n",
       "  </thead>\n",
       "  <tbody>\n",
       "    <tr>\n",
       "      <th>0</th>\n",
       "      <td>A</td>\n",
       "      <td>5.07</td>\n",
       "      <td>933.589744</td>\n",
       "      <td>47.33</td>\n",
       "    </tr>\n",
       "    <tr>\n",
       "      <th>1</th>\n",
       "      <td>B</td>\n",
       "      <td>4.62</td>\n",
       "      <td>1257.878992</td>\n",
       "      <td>58.11</td>\n",
       "    </tr>\n",
       "  </tbody>\n",
       "</table>\n",
       "</div>"
      ],
      "text/plain": [
       "  grp    CR        ARPPU   ARPU\n",
       "0   A  5.07   933.589744  47.33\n",
       "1   B  4.62  1257.878992  58.11"
      ]
     },
     "execution_count": 4,
     "metadata": {},
     "output_type": "execute_result"
    }
   ],
   "source": [
    "# Передаю в функцию датафреймы загруженные вначале и записываю результат в отдельную переменную\n",
    "metrics = my_function(groups, active_studs,checks)\n",
    "metrics"
   ]
  },
  {
   "cell_type": "markdown",
   "metadata": {},
   "source": [
    "### 2"
   ]
  },
  {
   "cell_type": "code",
   "execution_count": 5,
   "metadata": {},
   "outputs": [],
   "source": [
    "# создаю функцию для визуализации расчитанных метрик\n",
    "def graph(metrics):\n",
    "    metrics.plot(x = 'grp', legend= True, kind ='bar', subplots = True, figsize=(10,15), rot = 360, fontsize = 15)"
   ]
  },
  {
   "cell_type": "code",
   "execution_count": 6,
   "metadata": {},
   "outputs": [
    {
     "data": {
      "image/png": "[encoded data removed]",
      "text/plain": [
       "<Figure size 720x1080 with 3 Axes>"
      ]
     },
     "metadata": {},
     "output_type": "display_data"
    }
   ],
   "source": [
    "graph(metrics)"
   ]
  },
  {
   "cell_type": "code",
   "execution_count": null,
   "metadata": {},
   "outputs": [],
   "source": []
  }
 ],
 "metadata": {
  "kernelspec": {
   "display_name": "Python 3",
   "language": "python",
   "name": "python3"
  },
  "language_info": {
   "codemirror_mode": {
    "name": "ipython",
    "version": 3
   },
   "file_extension": ".py",
   "mimetype": "text/x-python",
   "name": "python",
   "nbconvert_exporter": "python",
   "pygments_lexer": "ipython3",
   "version": "3.7.3"
  }
 },
 "nbformat": 4,
 "nbformat_minor": 4
}
